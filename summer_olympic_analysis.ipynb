{
  "nbformat": 4,
  "nbformat_minor": 0,
  "metadata": {
    "colab": {
      "name": "summer_olympic_analysis.ipynb",
      "provenance": [],
      "collapsed_sections": []
    },
    "kernelspec": {
      "display_name": "Python 3",
      "name": "python3"
    },
    "language_info": {
      "name": "python"
    }
  },
  "cells": [
    {
      "cell_type": "code",
      "metadata": {
        "id": "AMBaYoA7ouZ2"
      },
      "source": [
        ""
      ],
      "execution_count": null,
      "outputs": []
    },
    {
      "cell_type": "code",
      "metadata": {
        "id": "EfZa-uYd2AZ6"
      },
      "source": [
        "import pandas as pd\n",
        "import matplotlib.pyplot as plt\n"
      ],
      "execution_count": 109,
      "outputs": []
    },
    {
      "cell_type": "code",
      "metadata": {
        "id": "geZ1cZOe2Mje"
      },
      "source": [
        "#df=pd.read_csv('https://raw.githubusercontent.com/AshishJangra27/Skill-India-AI-ML-Scholarship/main/Summer%20Olympics/summer.csv')\n",
        "df=pd.read_csv('/content/drive/MyDrive/summer.csv')"
      ],
      "execution_count": 110,
      "outputs": []
    },
    {
      "cell_type": "code",
      "metadata": {
        "colab": {
          "base_uri": "https://localhost:8080/"
        },
        "id": "lr-nCYTpJ7nd",
        "outputId": "5a03e1d7-90fe-4647-f581-b050072a60dd"
      },
      "source": [
        "df.isnull().sum()#*******no null values present"
      ],
      "execution_count": 111,
      "outputs": [
        {
          "output_type": "execute_result",
          "data": {
            "text/plain": [
              "Year          0\n",
              "City          0\n",
              "Sport         0\n",
              "Discipline    0\n",
              "Athlete       0\n",
              "Country       4\n",
              "Gender        0\n",
              "Event         0\n",
              "Medal         0\n",
              "dtype: int64"
            ]
          },
          "metadata": {},
          "execution_count": 111
        }
      ]
    },
    {
      "cell_type": "markdown",
      "metadata": {
        "id": "4YjHHGWJ3Aw1"
      },
      "source": [
        "**Q1** .in how many cities summer olampic held so far"
      ]
    },
    {
      "cell_type": "code",
      "metadata": {
        "colab": {
          "base_uri": "https://localhost:8080/"
        },
        "id": "0GQ_ebSx2S7e",
        "outputId": "5f912018-0133-4047-921a-6c72e3196979"
      },
      "source": [
        "print(df['City'].unique())\n",
        "#*** in following cities summer olampyc held*********"
      ],
      "execution_count": 112,
      "outputs": [
        {
          "output_type": "stream",
          "name": "stdout",
          "text": [
            "['Athens' 'Paris' 'St Louis' 'London' 'Stockholm' 'Antwerp' 'Amsterdam'\n",
            " 'Los Angeles' 'Berlin' 'Helsinki' 'Melbourne / Stockholm' 'Rome' 'Tokyo'\n",
            " 'Mexico' 'Munich' 'Montreal' 'Moscow' 'Seoul' 'Barcelona' 'Atlanta'\n",
            " 'Sydney' 'Beijing']\n"
          ]
        }
      ]
    },
    {
      "cell_type": "markdown",
      "metadata": {
        "id": "3kZoiRJwLNon"
      },
      "source": [
        "**Q2**.which sport is having most number of gold medals"
      ]
    },
    {
      "cell_type": "code",
      "metadata": {
        "colab": {
          "base_uri": "https://localhost:8080/",
          "height": 345
        },
        "id": "6Aiyacp8LMlJ",
        "outputId": "64d8c5eb-a8e7-41d0-8486-f1d4dd4139ae"
      },
      "source": [
        "ndf=(df['Medal']=='Gold')#filtering the dataset\n",
        "df.loc[ndf]\n",
        "ndf=df[ndf]\n",
        "lis=ndf['Sport'].unique()\n",
        "\n",
        "empt=[]\n",
        "for sp in lis:\n",
        "  empt.append([sp,len(ndf[ndf['Sport']==sp])])\n",
        "\n",
        "empt=pd.DataFrame(empt,columns=['sport_name','medal_count'])\n",
        "empt=empt.sort_values(by='medal_count',ascending=False)\n",
        "empt.head().plot(x='sport_name',y='medal_count', kind='bar')\n",
        "#*****as per the graph the sport aquatics have more number of gold medals\n"
      ],
      "execution_count": 113,
      "outputs": [
        {
          "output_type": "execute_result",
          "data": {
            "text/plain": [
              "<matplotlib.axes._subplots.AxesSubplot at 0x7f12c85822d0>"
            ]
          },
          "metadata": {},
          "execution_count": 113
        },
        {
          "output_type": "display_data",
          "data": {
            "image/png": "[encoded data removed]",
            "text/plain": [
              "<Figure size 432x288 with 1 Axes>"
            ]
          },
          "metadata": {
            "needs_background": "light"
          }
        }
      ]
    },
    {
      "cell_type": "markdown",
      "metadata": {
        "id": "Dfi-8rZhPmc9"
      },
      "source": [
        "**Q3** Which sport having most number of medals so far\n",
        "\n",
        "  \n",
        "   \n",
        "\n"
      ]
    },
    {
      "cell_type": "code",
      "metadata": {
        "colab": {
          "base_uri": "https://localhost:8080/",
          "height": 345
        },
        "id": "idf7relIPtvs",
        "outputId": "547cef3a-141d-46de-88d5-d630eaf3cc64"
      },
      "source": [
        "num=df['Sport'].unique()\n",
        "sum=[]\n",
        "for sp in num:\n",
        "  sum.append([sp,len(df[df['Sport']==sp])])\n",
        "sum=pd.DataFrame(sum,columns=['sport','nmedals'])\n",
        "sum=sum.sort_values(by='nmedals',ascending=False)\n",
        "\n",
        "sum.head().plot(x='sport',y='nmedals',kind='bar')\n",
        "#******** as per the graph most number of gold medals found in aquatics sport \n"
      ],
      "execution_count": 114,
      "outputs": [
        {
          "output_type": "execute_result",
          "data": {
            "text/plain": [
              "<matplotlib.axes._subplots.AxesSubplot at 0x7f12c86e8590>"
            ]
          },
          "metadata": {},
          "execution_count": 114
        },
        {
          "output_type": "display_data",
          "data": {
            "image/png": "[encoded data removed]",
            "text/plain": [
              "<Figure size 432x288 with 1 Axes>"
            ]
          },
          "metadata": {
            "needs_background": "light"
          }
        }
      ]
    },
    {
      "cell_type": "markdown",
      "metadata": {
        "id": "Kl07rxhuTHc1"
      },
      "source": [
        "**Q4** which plyes wins more number of medals"
      ]
    },
    {
      "cell_type": "code",
      "metadata": {
        "colab": {
          "base_uri": "https://localhost:8080/",
          "height": 404
        },
        "id": "GifyF187RQ7-",
        "outputId": "c26e9502-77eb-4c92-c73a-9f6e4a5a5cf7"
      },
      "source": [
        "un=df['Athlete'].unique()\n",
        "emp=[]\n",
        "\n",
        "for pl in un:\n",
        "  emp.append([pl,len(df[df['Athlete']==pl])])\n",
        "emp=pd.DataFrame(emp,columns=['athlete','medals_total'])\n",
        "emp=emp.sort_values(by='medals_total',ascending=False)\n",
        "emp.head(10).plot(x='athlete',y='medals_total',kind='bar')\n",
        "print(len(emp))\n",
        "#**********as from the graph PHELPS,michel wins more number of medals*********"
      ],
      "execution_count": 115,
      "outputs": [
        {
          "output_type": "stream",
          "name": "stdout",
          "text": [
            "22762\n"
          ]
        },
        {
          "output_type": "display_data",
          "data": {
            "image/png": "[encoded data removed]",
            "text/plain": [
              "<Figure size 432x288 with 1 Axes>"
            ]
          },
          "metadata": {
            "needs_background": "light"
          }
        }
      ]
    },
    {
      "cell_type": "markdown",
      "metadata": {
        "id": "yli_sdUhXX7_"
      },
      "source": [
        "**Q5**.which playes wons most number of gold  medals from medals"
      ]
    },
    {
      "cell_type": "code",
      "metadata": {
        "colab": {
          "base_uri": "https://localhost:8080/",
          "height": 378
        },
        "id": "PWdCYg3rXW0C",
        "outputId": "36d1b6c2-0651-490b-ba18-174a24fa5ee1"
      },
      "source": [
        "ndf=(df['Medal']=='Gold')\n",
        "\n",
        "df.loc[ndf]\n",
        "\n",
        "lis=df[ndf]\n",
        "lis\n",
        "names=lis['Athlete'].unique()\n",
        "empty=[]\n",
        "for n in names:\n",
        "  empty.append([n,len(lis[lis['Athlete']==n])])\n",
        "empty=pd.DataFrame(empty,columns=['athelete','count_medals'])\n",
        "empty=empty.sort_values(by='count_medals',ascending=False)\n",
        "empty.head(10).plot(x='athelete',y='count_medals',kind='bar')"
      ],
      "execution_count": 116,
      "outputs": [
        {
          "output_type": "execute_result",
          "data": {
            "text/plain": [
              "<matplotlib.axes._subplots.AxesSubplot at 0x7f12c82bfc10>"
            ]
          },
          "metadata": {},
          "execution_count": 116
        },
        {
          "output_type": "display_data",
          "data": {
            "image/png": "[encoded data removed]",
            "text/plain": [
              "<Figure size 432x288 with 1 Axes>"
            ]
          },
          "metadata": {
            "needs_background": "light"
          }
        }
      ]
    },
    {
      "cell_type": "markdown",
      "metadata": {
        "id": "5pGZZwdghlii"
      },
      "source": [
        " **Q6**.In which year india wons first gold medal"
      ]
    },
    {
      "cell_type": "code",
      "metadata": {
        "colab": {
          "base_uri": "https://localhost:8080/",
          "height": 266
        },
        "id": "ADHj_WI0Zp2Q",
        "outputId": "91e2eeae-037b-4a83-9c39-8f07bdf3752b"
      },
      "source": [
        "ndf=(df['Country']=='IND') &(df['Medal']=='Gold')\n",
        "df.loc[ndf]\n",
        "li=df[ndf]\n",
        "li=li.sort_values(by='Year',ascending=True)\n",
        "li.head(7)\n",
        "#******as per the dataset india wons first gold medal in 1928"
      ],
      "execution_count": 117,
      "outputs": [
        {
          "output_type": "execute_result",
          "data": {
            "text/html": [
              "<div>\n",
              "<style scoped>\n",
              "    .dataframe tbody tr th:only-of-type {\n",
              "        vertical-align: middle;\n",
              "    }\n",
              "\n",
              "    .dataframe tbody tr th {\n",
              "        vertical-align: top;\n",
              "    }\n",
              "\n",
              "    .dataframe thead th {\n",
              "        text-align: right;\n",
              "    }\n",
              "</style>\n",
              "<table border=\"1\" class=\"dataframe\">\n",
              "  <thead>\n",
              "    <tr style=\"text-align: right;\">\n",
              "      <th></th>\n",
              "      <th>Year</th>\n",
              "      <th>City</th>\n",
              "      <th>Sport</th>\n",
              "      <th>Discipline</th>\n",
              "      <th>Athlete</th>\n",
              "      <th>Country</th>\n",
              "      <th>Gender</th>\n",
              "      <th>Event</th>\n",
              "      <th>Medal</th>\n",
              "    </tr>\n",
              "  </thead>\n",
              "  <tbody>\n",
              "    <tr>\n",
              "      <th>5512</th>\n",
              "      <td>1928</td>\n",
              "      <td>Amsterdam</td>\n",
              "      <td>Hockey</td>\n",
              "      <td>Hockey</td>\n",
              "      <td>ALLEN, Richard James</td>\n",
              "      <td>IND</td>\n",
              "      <td>Men</td>\n",
              "      <td>Hockey</td>\n",
              "      <td>Gold</td>\n",
              "    </tr>\n",
              "    <tr>\n",
              "      <th>5526</th>\n",
              "      <td>1928</td>\n",
              "      <td>Amsterdam</td>\n",
              "      <td>Hockey</td>\n",
              "      <td>Hockey</td>\n",
              "      <td>YUSUF, Sayed Mohamed</td>\n",
              "      <td>IND</td>\n",
              "      <td>Men</td>\n",
              "      <td>Hockey</td>\n",
              "      <td>Gold</td>\n",
              "    </tr>\n",
              "    <tr>\n",
              "      <th>5525</th>\n",
              "      <td>1928</td>\n",
              "      <td>Amsterdam</td>\n",
              "      <td>Hockey</td>\n",
              "      <td>Hockey</td>\n",
              "      <td>SINGH, Jaipal</td>\n",
              "      <td>IND</td>\n",
              "      <td>Men</td>\n",
              "      <td>Hockey</td>\n",
              "      <td>Gold</td>\n",
              "    </tr>\n",
              "    <tr>\n",
              "      <th>5524</th>\n",
              "      <td>1928</td>\n",
              "      <td>Amsterdam</td>\n",
              "      <td>Hockey</td>\n",
              "      <td>Hockey</td>\n",
              "      <td>SHAUKAT, Ali</td>\n",
              "      <td>IND</td>\n",
              "      <td>Men</td>\n",
              "      <td>Hockey</td>\n",
              "      <td>Gold</td>\n",
              "    </tr>\n",
              "    <tr>\n",
              "      <th>5523</th>\n",
              "      <td>1928</td>\n",
              "      <td>Amsterdam</td>\n",
              "      <td>Hockey</td>\n",
              "      <td>Hockey</td>\n",
              "      <td>SEAMAN, Frederic S.</td>\n",
              "      <td>IND</td>\n",
              "      <td>Men</td>\n",
              "      <td>Hockey</td>\n",
              "      <td>Gold</td>\n",
              "    </tr>\n",
              "    <tr>\n",
              "      <th>5522</th>\n",
              "      <td>1928</td>\n",
              "      <td>Amsterdam</td>\n",
              "      <td>Hockey</td>\n",
              "      <td>Hockey</td>\n",
              "      <td>ROCQUE, Michael E.</td>\n",
              "      <td>IND</td>\n",
              "      <td>Men</td>\n",
              "      <td>Hockey</td>\n",
              "      <td>Gold</td>\n",
              "    </tr>\n",
              "    <tr>\n",
              "      <th>5520</th>\n",
              "      <td>1928</td>\n",
              "      <td>Amsterdam</td>\n",
              "      <td>Hockey</td>\n",
              "      <td>Hockey</td>\n",
              "      <td>NORRIS, Rex A.</td>\n",
              "      <td>IND</td>\n",
              "      <td>Men</td>\n",
              "      <td>Hockey</td>\n",
              "      <td>Gold</td>\n",
              "    </tr>\n",
              "  </tbody>\n",
              "</table>\n",
              "</div>"
            ],
            "text/plain": [
              "      Year       City   Sport Discipline  ... Country Gender   Event Medal\n",
              "5512  1928  Amsterdam  Hockey     Hockey  ...     IND    Men  Hockey  Gold\n",
              "5526  1928  Amsterdam  Hockey     Hockey  ...     IND    Men  Hockey  Gold\n",
              "5525  1928  Amsterdam  Hockey     Hockey  ...     IND    Men  Hockey  Gold\n",
              "5524  1928  Amsterdam  Hockey     Hockey  ...     IND    Men  Hockey  Gold\n",
              "5523  1928  Amsterdam  Hockey     Hockey  ...     IND    Men  Hockey  Gold\n",
              "5522  1928  Amsterdam  Hockey     Hockey  ...     IND    Men  Hockey  Gold\n",
              "5520  1928  Amsterdam  Hockey     Hockey  ...     IND    Men  Hockey  Gold\n",
              "\n",
              "[7 rows x 9 columns]"
            ]
          },
          "metadata": {},
          "execution_count": 117
        }
      ]
    },
    {
      "cell_type": "markdown",
      "metadata": {
        "id": "6Ijbq4puZISA"
      },
      "source": [
        "**Q7**.which Event is more popular in terms of players"
      ]
    },
    {
      "cell_type": "code",
      "metadata": {
        "colab": {
          "base_uri": "https://localhost:8080/",
          "height": 376
        },
        "id": "SFlsIBJZZRJD",
        "outputId": "c60b58a1-2fad-4613-ad0b-982a831e7eed"
      },
      "source": [
        "un=df['Event'].unique()\n",
        "emp=[]\n",
        "for pl in un:\n",
        "  emp.append([pl,len(df[df['Event']==pl])])\n",
        "emp=pd.DataFrame(emp,columns=['Event','total_players'])\n",
        "emp=emp.sort_values(by='total_players',ascending=False)\n",
        "emp.head().plot(x='Event',y='total_players',kind='bar')"
      ],
      "execution_count": 118,
      "outputs": [
        {
          "output_type": "execute_result",
          "data": {
            "text/plain": [
              "<matplotlib.axes._subplots.AxesSubplot at 0x7f12c80093d0>"
            ]
          },
          "metadata": {},
          "execution_count": 118
        },
        {
          "output_type": "display_data",
          "data": {
            "image/png": "[encoded data removed]",
            "text/plain": [
              "<Figure size 432x288 with 1 Axes>"
            ]
          },
          "metadata": {
            "needs_background": "light"
          }
        }
      ]
    },
    {
      "cell_type": "markdown",
      "metadata": {
        "id": "6fFuU2gG2_Xl"
      },
      "source": [
        "**Q8** which sport having more female Goldmedalist"
      ]
    },
    {
      "cell_type": "code",
      "metadata": {
        "colab": {
          "base_uri": "https://localhost:8080/",
          "height": 345
        },
        "id": "GI5Ar1aa27sT",
        "outputId": "a5835d12-cccd-4ea6-d5ea-323a711384f9"
      },
      "source": [
        "ndf=(df['Gender']=='Women') & (df['Medal']=='Gold')\n",
        "\n",
        "df.loc[ndf]              #***data filtering*****\n",
        "lis=df[ndf]\n",
        "names=lis['Sport'].unique()\n",
        "empty=[]\n",
        "for n in names:\n",
        "  empty.append([n,len(lis[lis['Sport']==n])])\n",
        "empty=pd.DataFrame(empty,columns=['Sport','female_count'])\n",
        "empty=empty.sort_values(by='female_count',ascending=False)\n",
        "empty.head().plot(x='Sport',y='female_count',kind='bar')\n",
        "#*as per the code more female athelets play aqutics\n"
      ],
      "execution_count": 119,
      "outputs": [
        {
          "output_type": "execute_result",
          "data": {
            "text/plain": [
              "<matplotlib.axes._subplots.AxesSubplot at 0x7f12c7f48310>"
            ]
          },
          "metadata": {},
          "execution_count": 119
        },
        {
          "output_type": "display_data",
          "data": {
            "image/png": "[encoded data removed]",
            "text/plain": [
              "<Figure size 432x288 with 1 Axes>"
            ]
          },
          "metadata": {
            "needs_background": "light"
          }
        }
      ]
    },
    {
      "cell_type": "markdown",
      "metadata": {
        "id": "q8YWWYIN1mS5"
      },
      "source": [
        "** ****Extra Quistion which female athelete wins more number of gold medals"
      ]
    },
    {
      "cell_type": "code",
      "metadata": {
        "colab": {
          "base_uri": "https://localhost:8080/",
          "height": 395
        },
        "id": "B1vdSP7hazGf",
        "outputId": "b4fa0847-ecbd-4b4a-ad43-d20dc6479716"
      },
      "source": [
        "ndf=(df['Gender']=='Women') & (df['Medal']=='Gold')\n",
        "\n",
        "df.loc[ndf]\n",
        "\n",
        "#ndf=pd.DataFrame(ndf)\n",
        "lis=df[ndf]\n",
        "lis\n",
        "names=lis['Athlete'].unique()\n",
        "print(len(names))\n",
        "empty=[]\n",
        "for n in names:\n",
        "  empty.append([n,len(lis[lis['Athlete']==n])])\n",
        "\n",
        "empty=pd.DataFrame(empty,columns=['athelete','count_medals'])\n",
        "empty=empty.sort_values(by='count_medals',ascending=False)\n",
        "empty.head().plot(x='athelete',y='count_medals',kind='bar')"
      ],
      "execution_count": 120,
      "outputs": [
        {
          "output_type": "stream",
          "name": "stdout",
          "text": [
            "2045\n"
          ]
        },
        {
          "output_type": "execute_result",
          "data": {
            "text/plain": [
              "<matplotlib.axes._subplots.AxesSubplot at 0x7f12c806d050>"
            ]
          },
          "metadata": {},
          "execution_count": 120
        },
        {
          "output_type": "display_data",
          "data": {
            "image/png": "[encoded data removed]",
            "text/plain": [
              "<Figure size 432x288 with 1 Axes>"
            ]
          },
          "metadata": {
            "needs_background": "light"
          }
        }
      ]
    }
  ]
}